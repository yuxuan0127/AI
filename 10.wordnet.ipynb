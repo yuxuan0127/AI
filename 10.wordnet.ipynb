!pip install CwnGraph

from pprint import pprint
from CwnGraph import CwnBase
CwnBase.install_cwn("cwn_graph.pyobj")

from CwnGraph import CwnBase
cwn = CwnBase()

lemmas = cwn.find_lemma("頭")
lemmas

import nltk
nltk.download('wordnet')
from nltk.corpus import wordnet as wn
wn.synsets('dog')

